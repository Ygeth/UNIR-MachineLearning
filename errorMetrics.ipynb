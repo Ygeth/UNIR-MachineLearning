{
  "nbformat": 4,
  "nbformat_minor": 0,
  "metadata": {
    "colab": {
      "provenance": [],
      "authorship_tag": "ABX9TyNx0rcYAx84gGBwKAEMFRgq",
      "include_colab_link": true
    },
    "kernelspec": {
      "name": "python3",
      "display_name": "Python 3"
    },
    "language_info": {
      "name": "python"
    }
  },
  "cells": [
    {
      "cell_type": "markdown",
      "metadata": {
        "id": "view-in-github",
        "colab_type": "text"
      },
      "source": [
        "<a href=\"https://colab.research.google.com/github/Ygeth/UNIR-MachineLearning/blob/main/errorMetrics.ipynb\" target=\"_parent\"><img src=\"https://colab.research.google.com/assets/colab-badge.svg\" alt=\"Open In Colab\"/></a>"
      ]
    },
    {
      "cell_type": "code",
      "execution_count": 11,
      "metadata": {
        "colab": {
          "base_uri": "https://localhost:8080/"
        },
        "id": "IoMoFKZh4CSg",
        "outputId": "753991ca-e896-454c-da48-a729c3c9a998"
      },
      "outputs": [
        {
          "output_type": "stream",
          "name": "stdout",
          "text": [
            "0.6137317546507324\n"
          ]
        }
      ],
      "source": [
        "from sklearn.metrics import mean_squared_error\n",
        "from sklearn.metrics import mean_absolute_error\n",
        "import math\n",
        "\n",
        "\n",
        "realValues = [5, 4, 1]\n",
        "predValues = [6, 4.2, 1.3]\n",
        "\n",
        "## errorCuadraticoMedio (MSE)\n",
        "def errorMSE(realValues, predValues):\n",
        "  assert len(realValues) == len(predValues)\n",
        "  mse = mean_squared_error(realValues, predValues)\n",
        "\n",
        "  print(mse)\n",
        "  return mse\n",
        "\n",
        "\n",
        "## errorAbsolutoMedio (MAE)\n",
        "def errorMAE(realValues, predValues):\n",
        "  assert len(realValues) == len(predValues)\n",
        "  mae = mean_absolute_error(realValues, predValues)\n",
        "\n",
        "  print(mae)\n",
        "  return mae\n",
        "\n",
        "\n",
        "## Raiz de errorCuadraticoMedio (RMSE)\n",
        "def errorRMSE(realValues, predValues):\n",
        "  assert len(realValues) == len(predValues)\n",
        "  rmse = mean_squared_error(realValues, predValues)**0.5\n",
        "\n",
        "  print(rmse)\n",
        "  return rmse\n",
        "\n",
        "\n",
        "## Raiz de errorCuadraticoMedio Logaritmico (RMSLE)\n",
        "def errorRMSLE(realValues, predValues):\n",
        "  assert len(realValues) == len(predValues)\n",
        "  terms_to_sum = [\n",
        "    math.log(predValues[i] + 1) - math.log(realValues[i] + 1) ** 2.0\n",
        "    for i, pred in enumerate(predValues)\n",
        "  ]\n",
        "  rmsle = (sum(terms_to_sum) * 1.0/len(realValues)) ** 0.5\n",
        "\n",
        "  print(rmsle)\n",
        "  return rmsle"
      ]
    }
  ]
}