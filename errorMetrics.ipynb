{
  "nbformat": 4,
  "nbformat_minor": 0,
  "metadata": {
    "colab": {
      "provenance": [],
      "authorship_tag": "ABX9TyNG2cRVDOktT/YirZ6y9sAv",
      "include_colab_link": true
    },
    "kernelspec": {
      "name": "python3",
      "display_name": "Python 3"
    },
    "language_info": {
      "name": "python"
    }
  },
  "cells": [
    {
      "cell_type": "markdown",
      "metadata": {
        "id": "view-in-github",
        "colab_type": "text"
      },
      "source": [
        "<a href=\"https://colab.research.google.com/github/Ygeth/UNIR-MachineLearning/blob/main/errorMetrics.ipynb\" target=\"_parent\"><img src=\"https://colab.research.google.com/assets/colab-badge.svg\" alt=\"Open In Colab\"/></a>"
      ]
    },
    {
      "cell_type": "code",
      "execution_count": 11,
      "metadata": {
        "colab": {
          "base_uri": "https://localhost:8080/"
        },
        "id": "IoMoFKZh4CSg",
        "outputId": "753991ca-e896-454c-da48-a729c3c9a998"
      },
      "outputs": [
        {
          "output_type": "stream",
          "name": "stdout",
          "text": [
            "0.6137317546507324\n"
          ]
        }
      ],
      "source": [
        "from sklearn.metrics import mean_squared_error\n",
        "\n",
        "\n",
        "realValues = [5, 4, 1]\n",
        "predValues = [6, 4.2, 1.3]\n",
        "\n",
        "def errorCuadraticoMedio(realValues, predValues):\n",
        "  rmse = mean_squared_error(realValues, predValues)**0.5\n",
        "  print(rmse)\n",
        "\n",
        "errorCuadraticoMedio(realValues, predValues)\n",
        "\n",
        "\n"
      ]
    }
  ]
}